{
 "cells": [
  {
   "cell_type": "code",
   "execution_count": 3,
   "metadata": {},
   "outputs": [
    {
     "name": "stdout",
     "output_type": "stream",
     "text": [
      "      Nome  Notas Aprovado\n",
      "0  Ricardo    4.0      Não\n",
      "1    Pedro    7.0      Sim\n",
      "2  Roberto    5.5      Não\n"
     ]
    }
   ],
   "source": [
    "import pandas as pd\n",
    "alunosDic =  {'Nome': ['Ricardo', 'Pedro', 'Roberto', 'Carlos'], \n",
    "        'Notas': [4, 7, 5.5, 9],\n",
    "        'Aprovado': ['Não', 'Sim', 'Não', 'Sim']}\n",
    "alunosDF = pd.DataFrame(alunosDic)\n",
    "primeirasLinhas = alunosDF.loc[0:2]\n",
    "print(primeirasLinhas)"
   ]
  },
  {
   "cell_type": "code",
   "execution_count": 7,
   "metadata": {},
   "outputs": [
    {
     "name": "stdout",
     "output_type": "stream",
     "text": [
      "      Nome  Notas Aprovado\n",
      "0  Ricardo    4.0      Não\n",
      "1    Pedro    7.0      Sim\n",
      "2  Roberto    5.5      Não\n"
     ]
    }
   ],
   "source": [
    "novoDF = alunosDF.loc[alunosDF['Notas'] != 9]\n",
    "print(novoDF)"
   ]
  },
  {
   "cell_type": "code",
   "execution_count": 10,
   "metadata": {},
   "outputs": [
    {
     "name": "stdout",
     "output_type": "stream",
     "text": [
      "      Nome  Notas Aprovado\n",
      "0  Ricardo    4.0      Não\n",
      "2  Roberto    5.5      Não\n"
     ]
    }
   ],
   "source": [
    "alunosReprovados = alunosDF.loc[alunosDF['Aprovado'] == 'Não']\n",
    "print(alunosReprovados)"
   ]
  }
 ],
 "metadata": {
  "kernelspec": {
   "display_name": "Python 3",
   "language": "python",
   "name": "python3"
  },
  "language_info": {
   "codemirror_mode": {
    "name": "ipython",
    "version": 3
   },
   "file_extension": ".py",
   "mimetype": "text/x-python",
   "name": "python",
   "nbconvert_exporter": "python",
   "pygments_lexer": "ipython3",
   "version": "3.12.0"
  }
 },
 "nbformat": 4,
 "nbformat_minor": 2
}
