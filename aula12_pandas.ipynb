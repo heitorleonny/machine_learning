{
 "cells": [
  {
   "cell_type": "code",
   "execution_count": 1,
   "metadata": {},
   "outputs": [],
   "source": [
    "import pandas as pd\n",
    "alunos = {'Nome': ['Ricardo', 'Pedro', 'Roberto', 'Carlos'], \n",
    "        'Notas': [4, 7, 5.5, 9],\n",
    "        'Aprovado': ['Não', 'Sim', 'Não', 'Sim']}"
   ]
  },
  {
   "cell_type": "code",
   "execution_count": 3,
   "metadata": {},
   "outputs": [
    {
     "name": "stdout",
     "output_type": "stream",
     "text": [
      "      Nome  Notas Aprovado\n",
      "0  Ricardo    4.0      Não\n",
      "1    Pedro    7.0      Sim\n",
      "2  Roberto    5.5      Não\n",
      "3   Carlos    9.0      Sim\n"
     ]
    }
   ],
   "source": [
    "# transformar em dataframe\n",
    "dataframe = pd.DataFrame(alunos)\n",
    "print(dataframe)"
   ]
  },
  {
   "cell_type": "code",
   "execution_count": 4,
   "metadata": {},
   "outputs": [
    {
     "name": "stdout",
     "output_type": "stream",
     "text": [
      "0     2\n",
      "1     6\n",
      "2     9\n",
      "3    10\n",
      "4     5\n",
      "dtype: int64\n"
     ]
    }
   ],
   "source": [
    "# Series cria tipo um vetor com índices, como parâmetro pode ser passado um array porém com apenas uma dimensão\n",
    "objeto1 = pd.Series([2, 6, 9, 10, 5])\n",
    "print(objeto1)"
   ]
  },
  {
   "cell_type": "code",
   "execution_count": 6,
   "metadata": {},
   "outputs": [
    {
     "name": "stdout",
     "output_type": "stream",
     "text": [
      "[[ 2  6  9 10  5]\n",
      " [ 6 12  2  9 19]]\n"
     ]
    }
   ],
   "source": [
    "import numpy as np\n",
    "array = np.array([(2, 6, 9, 10, 5), (6, 12, 2, 9, 19)])\n",
    "print(array)"
   ]
  }
 ],
 "metadata": {
  "kernelspec": {
   "display_name": "Python 3",
   "language": "python",
   "name": "python3"
  },
  "language_info": {
   "codemirror_mode": {
    "name": "ipython",
    "version": 3
   },
   "file_extension": ".py",
   "mimetype": "text/x-python",
   "name": "python",
   "nbconvert_exporter": "python",
   "pygments_lexer": "ipython3",
   "version": "3.12.0"
  }
 },
 "nbformat": 4,
 "nbformat_minor": 2
}
